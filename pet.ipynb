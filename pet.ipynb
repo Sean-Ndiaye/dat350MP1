{
 "cells": [
  {
   "cell_type": "markdown",
   "metadata": {},
   "source": [
    "Percentages for each \"Who\" question:"
   ]
  },
  {
   "cell_type": "code",
   "execution_count": 1,
   "metadata": {},
   "outputs": [],
   "source": [
    "#importing the library\n",
    "\n",
    "import pandas as pd"
   ]
  },
  {
   "cell_type": "code",
   "execution_count": 4,
   "metadata": {},
   "outputs": [
    {
     "data": {
      "text/plain": [
       "What is your gender?\n",
       "Male      80.0\n",
       "Female    20.0\n",
       "Name: proportion, dtype: float64"
      ]
     },
     "execution_count": 4,
     "metadata": {},
     "output_type": "execute_result"
    }
   ],
   "source": [
    "#reading in raw dataset\n",
    "\n",
    "rawDF = pd.read_csv(\"Pet_Preference.csv\")\n",
    "\n",
    "genderPercentage = rawDF[\"What is your gender?\"].value_counts(normalize=True) * 100\n",
    "\n",
    "genderPercentage"
   ]
  },
  {
   "cell_type": "markdown",
   "metadata": {},
   "source": [
    "The percentage of males in the survey is 80%, and the percentage of female is 20%."
   ]
  },
  {
   "cell_type": "code",
   "execution_count": 15,
   "metadata": {},
   "outputs": [
    {
     "data": {
      "text/plain": [
       "What is your Major?\n",
       "Data Analytics                                20.0\n",
       "Biochemistry                                  10.0\n",
       "Creative technologies                         10.0\n",
       "Environmental Science and Studies             10.0\n",
       "Animal Science                                10.0\n",
       "Computer Science                              10.0\n",
       "Creative Technologies                         10.0\n",
       "Finance                                       10.0\n",
       "Computer science and Creative Technologies    10.0\n",
       "Name: proportion, dtype: float64"
      ]
     },
     "execution_count": 15,
     "metadata": {},
     "output_type": "execute_result"
    }
   ],
   "source": [
    "majorPercentage = rawDF[\"What is your Major?\"].value_counts(normalize=True) * 100\n",
    "\n",
    "majorPercentage"
   ]
  },
  {
   "cell_type": "markdown",
   "metadata": {},
   "source": [
    "The percentage of majors is heavily varied, starting with the most at 20% Data analytics, followed by every other major at 10% including Biochemistry, Creative technologies, Environmental Science, Animal Science, Computer Science, Creative Technologies                        Finance with one double major being Computer science and Creative Technologies."
   ]
  },
  {
   "cell_type": "code",
   "execution_count": 16,
   "metadata": {},
   "outputs": [
    {
     "data": {
      "text/plain": [
       "What year are you?\n",
       "Junior       40.0\n",
       "Senior       30.0\n",
       "Sophomore    30.0\n",
       "Name: proportion, dtype: float64"
      ]
     },
     "execution_count": 16,
     "metadata": {},
     "output_type": "execute_result"
    }
   ],
   "source": [
    "yearPercentage = rawDF[\"What year are you?\"].value_counts(normalize=True) * 100\n",
    "\n",
    "yearPercentage"
   ]
  },
  {
   "cell_type": "markdown",
   "metadata": {},
   "source": [
    "The stats show that 40% of the survey are Juniors, 30% are Seniors, and 30% are Sophomores. No Freshman."
   ]
  },
  {
   "cell_type": "markdown",
   "metadata": {},
   "source": [
    "Percentages of \"What\":"
   ]
  },
  {
   "cell_type": "code",
   "execution_count": 5,
   "metadata": {},
   "outputs": [
    {
     "data": {
      "text/plain": [
       "What is your favorite kind of pet?\n",
       "Dog                                80.0\n",
       "Bird (parrots, parakeets, etc.)    10.0\n",
       "Cat                                10.0\n",
       "Name: proportion, dtype: float64"
      ]
     },
     "execution_count": 5,
     "metadata": {},
     "output_type": "execute_result"
    }
   ],
   "source": [
    "\n",
    "favPetPercentage = rawDF[\"What is your favorite kind of pet?\"].value_counts(normalize=True) * 100\n",
    "\n",
    "favPetPercentage"
   ]
  },
  {
   "cell_type": "markdown",
   "metadata": {},
   "source": [
    "The stats show that 80% of the survey prefers dogs, 10% prefer cats, and another 10% prefer birds."
   ]
  },
  {
   "cell_type": "code",
   "execution_count": 6,
   "metadata": {},
   "outputs": [
    {
     "data": {
      "text/plain": [
       "What pet do you own currently? (if any?)\n",
       "Dog    71.428571\n",
       "Cat    28.571429\n",
       "Name: proportion, dtype: float64"
      ]
     },
     "execution_count": 6,
     "metadata": {},
     "output_type": "execute_result"
    }
   ],
   "source": [
    "\n",
    "ownPetPercentage = rawDF[\"What pet do you own currently? (if any?)\"].value_counts(normalize=True) * 100\n",
    "\n",
    "ownPetPercentage"
   ]
  },
  {
   "cell_type": "markdown",
   "metadata": {},
   "source": [
    "The survey shows that 71% own dogs, while only 28% own cats."
   ]
  },
  {
   "cell_type": "code",
   "execution_count": 18,
   "metadata": {},
   "outputs": [
    {
     "data": {
      "text/plain": [
       "How many pets do (or would) you own?\n",
       "2     60.0\n",
       "1     30.0\n",
       "4+    10.0\n",
       "Name: proportion, dtype: float64"
      ]
     },
     "execution_count": 18,
     "metadata": {},
     "output_type": "execute_result"
    }
   ],
   "source": [
    "numPetPercentage = rawDF[\"How many pets do (or would) you own?\"].value_counts(normalize=True) * 100\n",
    "\n",
    "numPetPercentage"
   ]
  },
  {
   "cell_type": "markdown",
   "metadata": {},
   "source": [
    "The survey shows that 60% own (or would own) two pets, 30% own 1 pet, and 10% own four or more pets."
   ]
  },
  {
   "cell_type": "markdown",
   "metadata": {},
   "source": [
    "Percentages for \"When\":"
   ]
  },
  {
   "cell_type": "code",
   "execution_count": 7,
   "metadata": {},
   "outputs": [
    {
     "data": {
      "text/plain": [
       "How long have you owned a pet? (if any)\n",
       ">6-10 years      20.0\n",
       "Whole life       20.0\n",
       "1-2 years        20.0\n",
       "2-6 years        20.0\n",
       "Never had one    10.0\n",
       ">1 year          10.0\n",
       "Name: proportion, dtype: float64"
      ]
     },
     "execution_count": 7,
     "metadata": {},
     "output_type": "execute_result"
    }
   ],
   "source": [
    "howLongPercentage = rawDF[\"How long have you owned a pet? (if any)\"].value_counts(normalize=True) * 100\n",
    "\n",
    "howLongPercentage"
   ]
  },
  {
   "cell_type": "markdown",
   "metadata": {},
   "source": [
    "The survey shows that 20% have owned pets for >6-10 years, another 20% for their whole lives, 20% have owned pets for 1-2 years, and another 20% owned pets for 2-6 years. 10% have never owned a pet, and another 10% have owned a pet for less than a year."
   ]
  },
  {
   "cell_type": "markdown",
   "metadata": {},
   "source": [
    "Percentage of \"Where\":"
   ]
  },
  {
   "cell_type": "code",
   "execution_count": 9,
   "metadata": {},
   "outputs": [
    {
     "data": {
      "text/plain": [
       "Where did (or would) you get your pet from?\n",
       "Professional Breeder      40.0\n",
       "Public Adoption Center    30.0\n",
       "Family or friend          20.0\n",
       "Rescued Stray             10.0\n",
       "Name: proportion, dtype: float64"
      ]
     },
     "execution_count": 9,
     "metadata": {},
     "output_type": "execute_result"
    }
   ],
   "source": [
    "wherePercentage = rawDF[\"Where did (or would) you get your pet from?\"].value_counts(normalize=True) * 100\n",
    "\n",
    "wherePercentage"
   ]
  },
  {
   "cell_type": "markdown",
   "metadata": {},
   "source": [
    "The survey shows that 40% would get their pets from a professional breeder, 30% from a Public Adoption Center, 20% from a family or friend, and 10% report finding a rescued stray."
   ]
  },
  {
   "cell_type": "markdown",
   "metadata": {},
   "source": [
    "Percentage of \"Why\":"
   ]
  },
  {
   "cell_type": "code",
   "execution_count": 12,
   "metadata": {},
   "outputs": [
    {
     "data": {
      "text/plain": [
       "Why did you choose where you would (or got) your pet from? \n",
       "Public adoption center: I want to help animals in need                             50.0\n",
       "Professional breeder: I want a specific breed                                      20.0\n",
       "I would want to get a dog that is bred with temperament in mind.                   10.0\n",
       "Professional breeder: I want to ensure my pet comes from a healthy/good lineage    10.0\n",
       "Family or Friend: I have wanted this pet from them for a long time                 10.0\n",
       "Name: proportion, dtype: float64"
      ]
     },
     "execution_count": 12,
     "metadata": {},
     "output_type": "execute_result"
    }
   ],
   "source": [
    "whyPercentage = rawDF[\"Why did you choose where you would (or got) your pet from? \"].value_counts(normalize=True) * 100\n",
    "\n",
    "whyPercentage"
   ]
  },
  {
   "cell_type": "markdown",
   "metadata": {},
   "source": [
    "The survey states that the reason 50% would or got their pets from public adoption is that they want to help animals in need, 20% wanted specific breeds from a Professional Breeder, 10% wanted to get a breed with a good temperment from a breeder, 10% wanted to get a pet from a professional breeder to ensure its good lineage/health, and another 10% wanted to get a pet from a family member or friend, wanting the pet for a long time from them. "
   ]
  },
  {
   "cell_type": "code",
   "execution_count": 13,
   "metadata": {},
   "outputs": [
    {
     "data": {
      "text/plain": [
       "What would be the main reason you wouldn't be able to spend time with your pet?\n",
       "School Schedule         60.0\n",
       "Work or Job Schedule    20.0\n",
       "Sports Schedule         20.0\n",
       "Name: proportion, dtype: float64"
      ]
     },
     "execution_count": 13,
     "metadata": {},
     "output_type": "execute_result"
    }
   ],
   "source": [
    "why2Percentage = rawDF[\"What would be the main reason you wouldn't be able to spend time with your pet?\"].value_counts(normalize=True) * 100\n",
    "\n",
    "why2Percentage"
   ]
  },
  {
   "cell_type": "markdown",
   "metadata": {},
   "source": [
    "The survey states that the  main reasons people wouldn't be able to spend time with their pets is 60% have a busy school schedule, 20% have a busy work or job schedule, and another 20% have a busy sports schedule."
   ]
  },
  {
   "cell_type": "code",
   "execution_count": 14,
   "metadata": {},
   "outputs": [
    {
     "data": {
      "text/plain": [
       "Why do you like your favorite pet? (Pick the strongest/main reason)\n",
       "Companionship    90.0\n",
       "Security         10.0\n",
       "Name: proportion, dtype: float64"
      ]
     },
     "execution_count": 14,
     "metadata": {},
     "output_type": "execute_result"
    }
   ],
   "source": [
    "why3Percentage = rawDF[\"Why do you like your favorite pet? (Pick the strongest/main reason)\"].value_counts(normalize=True) * 100\n",
    "\n",
    "why3Percentage"
   ]
  },
  {
   "cell_type": "markdown",
   "metadata": {},
   "source": [
    "The survey states that 90% of people would get a pet for companionship, while the other 10% would get them for security."
   ]
  },
  {
   "cell_type": "markdown",
   "metadata": {},
   "source": []
  }
 ],
 "metadata": {
  "kernelspec": {
   "display_name": "base",
   "language": "python",
   "name": "python3"
  },
  "language_info": {
   "codemirror_mode": {
    "name": "ipython",
    "version": 3
   },
   "file_extension": ".py",
   "mimetype": "text/x-python",
   "name": "python",
   "nbconvert_exporter": "python",
   "pygments_lexer": "ipython3",
   "version": "3.11.5"
  },
  "orig_nbformat": 4
 },
 "nbformat": 4,
 "nbformat_minor": 2
}
